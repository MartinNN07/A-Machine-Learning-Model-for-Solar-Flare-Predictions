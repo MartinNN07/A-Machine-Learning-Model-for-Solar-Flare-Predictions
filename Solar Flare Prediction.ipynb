{
 "cells": [
  {
   "cell_type": "code",
   "execution_count": 4,
   "id": "0497ec66",
   "metadata": {},
   "outputs": [],
   "source": [
    "%matplotlib inline"
   ]
  },
  {
   "cell_type": "code",
   "execution_count": 11,
   "id": "8d4384e7",
   "metadata": {},
   "outputs": [],
   "source": [
    "import pandas as pd\n",
    "import numpy as np\n",
    "import matplotlib.pyplot as plt"
   ]
  },
  {
   "cell_type": "markdown",
   "id": "633f6ff4",
   "metadata": {},
   "source": [
    "<h1> A Machine Learning Model for Solar Flare Predictions </h1>"
   ]
  },
  {
   "cell_type": "markdown",
   "id": "f9ae03d8",
   "metadata": {},
   "source": [
    "<h2>I. Overview</h2>"
   ]
  },
  {
   "cell_type": "markdown",
   "id": "099d2d90",
   "metadata": {
    "tags": []
   },
   "source": [
    "<h3> What is a solar flare? </h3>"
   ]
  },
  {
   "cell_type": "markdown",
   "id": "9fe7422f",
   "metadata": {},
   "source": [
    "A solar flare is a powerful electromagnetic radioactive eruption of the Sun. It occurs in active regions(AR) which are charactirized with magnetic abnormlities - extremely strong and complex magnetic field. A solar flare can release energy of $10^{21}$ to $10^{25}$ J. This leads to disruptions in radio communication technologies and even fallouts. For example, the biggest solar flare ever recorded, happened in 1859 and caused auroras, which could be seen from the Carribean, blackouts and failiure of most telegraph systems over North America and Europe. That is why scientist are trying to find a way to predict when an event like this would happen."
   ]
  },
  {
   "cell_type": "code",
   "execution_count": null,
   "id": "3dd955b0-f942-42fe-b619-d163b1b55f84",
   "metadata": {},
   "outputs": [],
   "source": []
  }
 ],
 "metadata": {
  "kernelspec": {
   "display_name": "Python 3 (ipykernel)",
   "language": "python",
   "name": "python3"
  },
  "language_info": {
   "codemirror_mode": {
    "name": "ipython",
    "version": 3
   },
   "file_extension": ".py",
   "mimetype": "text/x-python",
   "name": "python",
   "nbconvert_exporter": "python",
   "pygments_lexer": "ipython3",
   "version": "3.9.13"
  }
 },
 "nbformat": 4,
 "nbformat_minor": 5
}
