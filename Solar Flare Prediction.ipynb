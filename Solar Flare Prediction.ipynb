{
 "cells": [
  {
   "cell_type": "code",
   "execution_count": 2,
   "id": "0497ec66",
   "metadata": {},
   "outputs": [],
   "source": [
    "%matplotlib inline"
   ]
  },
  {
   "cell_type": "code",
   "execution_count": 3,
   "id": "8d4384e7",
   "metadata": {},
   "outputs": [],
   "source": [
    "import pandas as pd\n",
    "import numpy as np\n",
    "import matplotlib.pyplot as plt\n",
    "from datetime import date\n",
    "from datetime import datetime\n",
    "from datetime import timedelta"
   ]
  },
  {
   "cell_type": "markdown",
   "id": "633f6ff4",
   "metadata": {},
   "source": [
    "<h1> A Machine Learning Model for Solar Flare Predictions </h1>"
   ]
  },
  {
   "cell_type": "markdown",
   "id": "f9ae03d8",
   "metadata": {},
   "source": [
    "<h2>I. Overview</h2>"
   ]
  },
  {
   "cell_type": "markdown",
   "id": "099d2d90",
   "metadata": {
    "tags": []
   },
   "source": [
    "<h3> What is a solar flare? </h3>"
   ]
  },
  {
   "cell_type": "markdown",
   "id": "9fe7422f",
   "metadata": {},
   "source": [
    "A solar flare is a powerful electromagnetic radioactive eruption of the Sun. It occurs in active regions(AR) which are charactirized with magnetic abnormlities - extremely strong and complex magnetic field. A solar flare can release energy of $10^{21}$ to $10^{25}$ J. This leads to disruptions in radio communication technologies and even fallouts. For example, the biggest solar flare ever recorded, happened in 1859 and caused auroras, which could be seen from the Carribean, blackouts and failiure of most telegraph systems over North America and Europe. That is why scientist are trying to find a way to predict when an event like this would happen."
   ]
  },
  {
   "cell_type": "code",
   "execution_count": 4,
   "id": "0aae4751-ce94-41c9-9956-9301a83aafe4",
   "metadata": {},
   "outputs": [],
   "source": [
    "#date format 2022.11.01_00:00:00-2022.11.02_00:00:00\n",
    "import drms\n",
    "\n",
    "def extractHMI_SHARP_720s(year):\n",
    "    \n",
    "    dataFrame = pd.DataFrame()\n",
    "    currDate = datetime(year, 1, 11)\n",
    "    pastDate = currDate + timedelta(days = -10)\n",
    "\n",
    "    while currDate.year < year+1:\n",
    "        \n",
    "        pastDateStr = pastDate.strftime('%Y.%m.%d_%H:%M:%S')\n",
    "        currDateStr = currDate.strftime('%Y.%m.%d_%H:%M:%S')\n",
    "        \n",
    "        url = pastDateStr + '-' + currDateStr\n",
    "        print(url)\n",
    "        \n",
    "        client = drms.Client()\n",
    "        dataFrameQuery = client.query(\n",
    "        'hmi.sharp_720s[][' + url + ']',\n",
    "        key='T_REC,HARPNUM,TOTUSJH,TOTPOT,TOTUSJZ,ABSNJZH,SAVNCPP,USFLUX,AREA_ACR,MEANPOT,R_VALUE,SHRGT45,MEANSHR,MEANGAM,NOAA_AR,QUALITY'\n",
    "        )\n",
    "        \n",
    "        dataFrame = pd.concat([dataFrame, dataFrameQuery], ignore_index= True)\n",
    "        currDate = currDate + timedelta(days = 10)\n",
    "        pastDate = pastDate + timedelta(days = 10)\n",
    "        \n",
    "        if pastDate.year != currDate.year:\n",
    "            currDate = datetime(pastDate.year, 12, 31, 23, 59, 59)\n",
    "            \n",
    "    dataFrame.to_csv('data/HMI_SHARP_720s/HMI_SHARP_720s_' + str(year) + '.csv')\n",
    "    \n"
   ]
  },
  {
   "cell_type": "code",
   "execution_count": null,
   "id": "ba108f23",
   "metadata": {},
   "outputs": [
    {
     "name": "stdout",
     "output_type": "stream",
     "text": [
      "Currently extracting data from the year 2010\n",
      "2010.01.01_00:00:00-2010.01.11_00:00:00\n"
     ]
    }
   ],
   "source": [
    "for i in range (2010, 2022+1):\n",
    "    print ('Currently extracting data from the year ' + str(i))\n",
    "    extractHMI_SHARP_720s(i)"
   ]
  },
  {
   "cell_type": "code",
   "execution_count": 5,
   "id": "f57a38e7-d27b-43a3-9823-1cc1b15d7210",
   "metadata": {},
   "outputs": [],
   "source": [
    "#date format 2022.11.01_00:00:00-2022.11.02_00:00:00\n",
    "def extractCgemLorentz(year):\n",
    "    \n",
    "    dataFrame = pd.DataFrame()\n",
    "    currDate = datetime(year, 1, 11)\n",
    "    pastDate = currDate + timedelta(days = -10)\n",
    "\n",
    "    while currDate.year < year+1:\n",
    "        \n",
    "        pastDateStr = pastDate.strftime('%Y.%m.%d_%H:%M:%S')\n",
    "        currDateStr = currDate.strftime('%Y.%m.%d_%H:%M:%S')\n",
    "        \n",
    "        url = pastDateStr + '-' + currDateStr\n",
    "        #print(url)\n",
    "        \n",
    "        client = drms.Client()\n",
    "        dataFrameQuery = client.query(\n",
    "            'cgem.lorentz[][' + url + ']',\n",
    "            key='T_REC,HARPNUM, TOTBSQ, TOTFZ, EPSZ, NOAA_AR, QUALITY'\n",
    "        )\n",
    "        \n",
    "        dataFrame = pd.concat([dataFrame, dataFrameQuery], ignore_index = True)\n",
    "        currDate = currDate + timedelta(days = 10)\n",
    "        pastDate = pastDate + timedelta(days = 10)\n",
    "        \n",
    "        if pastDate.year != currDate.year:\n",
    "            currDate = datetime(pastDate.year, 12, 31, 23, 59, 59)\n",
    "            \n",
    "    dataFrame.to_csv('data/cgemLorentz/cgemLorentz_' + str(year) + '.csv')\n",
    "    \n"
   ]
  },
  {
   "cell_type": "code",
   "execution_count": 10,
   "id": "a7faa046-2255-4c72-bfea-04f8e65b709f",
   "metadata": {},
   "outputs": [
    {
     "name": "stdout",
     "output_type": "stream",
     "text": [
      "Currently extracting data from the year 2010\n",
      "Currently extracting data from the year 2011\n",
      "Currently extracting data from the year 2012\n",
      "Currently extracting data from the year 2013\n",
      "Currently extracting data from the year 2014\n",
      "Currently extracting data from the year 2015\n",
      "Currently extracting data from the year 2016\n",
      "Currently extracting data from the year 2017\n",
      "Currently extracting data from the year 2018\n",
      "Currently extracting data from the year 2019\n",
      "Currently extracting data from the year 2020\n",
      "Currently extracting data from the year 2021\n",
      "Currently extracting data from the year 2022\n"
     ]
    }
   ],
   "source": [
    "for i in range (2010, 2022+1):\n",
    "    print ('Currently extracting data from the year ' + str(i))\n",
    "    extractCgemLorentz(i)"
   ]
  },
  {
   "cell_type": "code",
   "execution_count": 6,
   "id": "bd1f2b46-4ee2-4096-8803-093787df2241",
   "metadata": {},
   "outputs": [],
   "source": [
    "def extractDataFromSolarMonitor(year):\n",
    "    \n",
    "    dataFrame = pd.DataFrame()\n",
    "    \n",
    "    currDate = date(year, 1, 1)\n",
    "    if year == 2010:\n",
    "        currDate = date(year, 8, 5)\n",
    "    \n",
    "    print('Currently extracting data from year ' + str(currDate.year))\n",
    "    while currDate.year < year+1:\n",
    "        dateStr = currDate.strftime('%Y%m%d')\n",
    "        url = 'https://www.solarmonitor.org/index.php?date=' + dateStr\n",
    "        #print(url)\n",
    "        df = pd.read_html(url)\n",
    "        for i in range(0, len(df)):\n",
    "            if df[i][0][0] == \"Today's/Yesterday's NOAA Active Regions\":\n",
    "                df = df[i]\n",
    "                break\n",
    "\n",
    "        #format table and set headers\n",
    "        df = df.drop([0]).reset_index()\n",
    "        df.rename(columns = df.iloc[0], inplace = True)\n",
    "        df = df.drop([0]).reset_index()\n",
    "        df = df.drop(columns = ['index', 1])\n",
    "        df.insert(0, 'Date', currDate.strftime('%Y.%m.%d'))\n",
    "\n",
    "\n",
    "        dataFrame = pd.concat([dataFrame, df], ignore_index = True)\n",
    "        currDate = currDate + timedelta(days = 1)\n",
    "    \n",
    "    dataFrame.to_csv('data/Solar Monitor/Solar_Monitor_' + str(year) + '.csv')"
   ]
  },
  {
   "cell_type": "code",
   "execution_count": 7,
   "id": "4988f642-fe67-4d5f-9f09-f015714818a6",
   "metadata": {},
   "outputs": [
    {
     "name": "stdout",
     "output_type": "stream",
     "text": [
      "Currently extracting data from year 2013\n",
      "Currently extracting data from year 2014\n",
      "Currently extracting data from year 2015\n",
      "Currently extracting data from year 2016\n",
      "Currently extracting data from year 2017\n",
      "Currently extracting data from year 2018\n",
      "Currently extracting data from year 2019\n",
      "Currently extracting data from year 2020\n",
      "Currently extracting data from year 2021\n",
      "Currently extracting data from year 2022\n"
     ]
    }
   ],
   "source": [
    "for i in range(2013, 2022+1):\n",
    "    extractDataFromSolarMonitor(i)"
   ]
  },
  {
   "cell_type": "code",
   "execution_count": null,
   "id": "116d150d-d470-4804-ab38-48ede4dd5791",
   "metadata": {},
   "outputs": [],
   "source": []
  }
 ],
 "metadata": {
  "kernelspec": {
   "display_name": "Python 3 (ipykernel)",
   "language": "python",
   "name": "python3"
  },
  "language_info": {
   "codemirror_mode": {
    "name": "ipython",
    "version": 3
   },
   "file_extension": ".py",
   "mimetype": "text/x-python",
   "name": "python",
   "nbconvert_exporter": "python",
   "pygments_lexer": "ipython3",
   "version": "3.9.13"
  }
 },
 "nbformat": 4,
 "nbformat_minor": 5
}
